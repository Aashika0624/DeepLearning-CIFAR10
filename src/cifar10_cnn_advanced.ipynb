{
  "cells": [
    {
      "cell_type": "markdown",
      "source": [
        "# Neural Networks and Deep Learning (ECS659P/ECS7026P)"
      ],
      "metadata": {
        "id": "zlP9mhVCwgn6"
      },
      "id": "zlP9mhVCwgn6"
    },
    {
      "cell_type": "markdown",
      "source": [
        "Aashika Elavarasan\n",
        "\n",
        "230356836"
      ],
      "metadata": {
        "id": "g0ZZOsBZT-vQ"
      },
      "id": "g0ZZOsBZT-vQ"
    },
    {
      "cell_type": "markdown",
      "source": [
        "**Setup and Configuration**"
      ],
      "metadata": {
        "id": "Yl9NpnOjTna1"
      },
      "id": "Yl9NpnOjTna1"
    },
    {
      "cell_type": "code",
      "execution_count": null,
      "id": "7c7a14a5-757e-4efb-b593-0849bf89f58a",
      "metadata": {
        "id": "7c7a14a5-757e-4efb-b593-0849bf89f58a"
      },
      "outputs": [],
      "source": [
        "import torch\n",
        "import torch.nn as nn\n",
        "import torch.optim as optim\n",
        "from torchvision import datasets, transforms\n",
        "from torch.utils.data import DataLoader\n",
        "from torch.optim.lr_scheduler import OneCycleLR"
      ]
    },
    {
      "cell_type": "markdown",
      "source": [
        "**Data Loading and Preprocessing**"
      ],
      "metadata": {
        "id": "Nf8-F3IeUSP7"
      },
      "id": "Nf8-F3IeUSP7"
    },
    {
      "cell_type": "code",
      "execution_count": null,
      "id": "723dbc15-d67c-43f6-8966-2d83e5e3510a",
      "metadata": {
        "colab": {
          "base_uri": "https://localhost:8080/"
        },
        "id": "723dbc15-d67c-43f6-8966-2d83e5e3510a",
        "outputId": "d23751a0-5799-4e73-b394-3d19eb0e0f22"
      },
      "outputs": [
        {
          "output_type": "stream",
          "name": "stdout",
          "text": [
            "Downloading https://www.cs.toronto.edu/~kriz/cifar-10-python.tar.gz to ./data/cifar-10-python.tar.gz\n"
          ]
        },
        {
          "output_type": "stream",
          "name": "stderr",
          "text": [
            "100%|██████████| 170498071/170498071 [00:13<00:00, 13023939.83it/s]\n"
          ]
        },
        {
          "output_type": "stream",
          "name": "stdout",
          "text": [
            "Extracting ./data/cifar-10-python.tar.gz to ./data\n",
            "Files already downloaded and verified\n"
          ]
        }
      ],
      "source": [
        "from torchvision import transforms\n",
        "\n",
        "# Define transformations for the training dataset\n",
        "# These transformations include random cropping, horizontal flipping, rotation, and color jittering\n",
        "# to augment the data and help the model generalize better from the training data.\n",
        "# Finally, the images are converted to tensors and normalized.\n",
        "transform_train = transforms.Compose([\n",
        "    transforms.RandomCrop(32, padding=4),  # Randomly crops the image with padding of 4 on each side\n",
        "    transforms.RandomHorizontalFlip(),\n",
        "    transforms.RandomRotation(15),\n",
        "    transforms.ColorJitter(brightness=0.1, contrast=0.1, saturation=0.1, hue=0.1),\n",
        "    transforms.ToTensor(),\n",
        "    transforms.Normalize((0.5, 0.5, 0.5), (0.5, 0.5, 0.5)),\n",
        "])\n",
        "\n",
        "# Transformations for the test dataset are simpler as we don't want to augment the testing data.\n",
        "# Here we only convert the images to tensors and normalize them.\n",
        "transform_test = transforms.Compose([\n",
        "    transforms.ToTensor(),\n",
        "    transforms.Normalize((0.5, 0.5, 0.5), (0.5, 0.5, 0.5)),\n",
        "])\n",
        "\n",
        "# Load the CIFAR-10 training dataset, applying the defined transformations\n",
        "trainset = datasets.CIFAR10(root='./data', train=True, download=True, transform=transform_train)\n",
        "train_loader = DataLoader(trainset, batch_size=128, shuffle=True, num_workers=2)  # DataLoader for training data\n",
        "\n",
        "# Load the CIFAR-10 testing dataset, applying the defined transformations\n",
        "testset = datasets.CIFAR10(root='./data', train=False, download=True, transform=transform_test)\n",
        "test_loader = DataLoader(testset, batch_size=100, shuffle=False, num_workers=2)  # DataLoader for testing data\n",
        "\n",
        "# Check for GPU availability and set the device accordingly\n",
        "device = torch.device(\"cuda:0\" if torch.cuda.is_available() else \"cpu\")\n",
        "\n"
      ]
    },
    {
      "cell_type": "markdown",
      "source": [
        "**Model Architecture**"
      ],
      "metadata": {
        "id": "JclB9FSFVAKT"
      },
      "id": "JclB9FSFVAKT"
    },
    {
      "cell_type": "code",
      "execution_count": null,
      "id": "8d593ec3-15c8-43aa-9919-8b349a4daf17",
      "metadata": {
        "id": "8d593ec3-15c8-43aa-9919-8b349a4daf17"
      },
      "outputs": [],
      "source": [
        "import torch.nn as nn\n",
        "import torch.nn.functional as F\n",
        "\n",
        "\n",
        "class IntermediateBlock(nn.Module):\n",
        "    def __init__(self, in_channels, out_channels, num_convs, dropout_rate=0.5):\n",
        "        super(IntermediateBlock, self).__init__()\n",
        "        layers = []\n",
        "        for _ in range(num_convs):\n",
        "            layers.append(nn.Conv2d(in_channels, out_channels, kernel_size=3, padding=1))\n",
        "            layers.append(nn.BatchNorm2d(out_channels))\n",
        "            layers.append(nn.ReLU(inplace=True))\n",
        "            layers.append(nn.Dropout(dropout_rate))\n",
        "        self.layers = nn.Sequential(*layers)\n",
        "        self.fc = nn.Linear(in_channels, num_convs)\n",
        "\n",
        "    def forward(self, x):\n",
        "        # Calculate the average across spatial dimensions for each channel\n",
        "        avg_pool = F.adaptive_avg_pool2d(x, (1, 1))\n",
        "        avg_pool = avg_pool.view(avg_pool.size(0), -1)\n",
        "\n",
        "        # Use a fully connected layer to compute weights for each convolution\n",
        "        a = F.softmax(self.fc(avg_pool), dim=1)\n",
        "\n",
        "        # Apply each convolution to the input and stack the results\n",
        "        conv_outputs = torch.stack([conv(x) for conv in self.convs], dim=1)\n",
        "\n",
        "        # Combine the convolution outputs according to the weights in 'a'\n",
        "        out = torch.einsum('bn,bnchw->bchw', a, conv_outputs)\n",
        "\n",
        "        return out\n",
        "\n"
      ]
    },
    {
      "cell_type": "code",
      "execution_count": null,
      "id": "e2643680-d5d8-4525-ba1d-e567dbf01724",
      "metadata": {
        "id": "e2643680-d5d8-4525-ba1d-e567dbf01724"
      },
      "outputs": [],
      "source": [
        "class OutputBlock(nn.Module):\n",
        "    def __init__(self, in_channels, num_classes):\n",
        "        super(OutputBlock, self).__init__()\n",
        "        self.avg_pool = nn.AdaptiveAvgPool2d((1, 1))\n",
        "        self.fc = nn.Linear(in_channels, num_classes)\n",
        "\n",
        "    def forward(self, x):\n",
        "        x = self.avg_pool(x)\n",
        "        x = x.view(x.size(0), -1)\n",
        "        x = self.fc(x)\n",
        "        return x\n"
      ]
    },
    {
      "cell_type": "code",
      "execution_count": null,
      "id": "b92c7713-94a4-4465-ac9f-785c84d805d3",
      "metadata": {
        "id": "b92c7713-94a4-4465-ac9f-785c84d805d3"
      },
      "outputs": [],
      "source": [
        "class SimplifiedCIFAR10Net(nn.Module):\n",
        "    def __init__(self):\n",
        "        super(SimplifiedCIFAR10Net, self).__init__()\n",
        "        self.layer1 = nn.Sequential(\n",
        "            nn.Conv2d(3, 32, kernel_size=3, padding=1),\n",
        "            nn.BatchNorm2d(32),\n",
        "            nn.ReLU(),\n",
        "            nn.MaxPool2d(kernel_size=2, stride=2))\n",
        "\n",
        "        self.layer2 = nn.Sequential(\n",
        "            nn.Conv2d(32, 64, kernel_size=3, padding=1),\n",
        "            nn.BatchNorm2d(64),\n",
        "            nn.ReLU(),\n",
        "            nn.MaxPool2d(kernel_size=2, stride=2))\n",
        "\n",
        "        self.fc1 = nn.Linear(64 * 8 * 8, 600)\n",
        "        # self.drop = nn.Dropout2d(0.25)\n",
        "        self.drop = nn.Dropout(0.5)\n",
        "        self.fc2 = nn.Linear(600, 10)\n",
        "\n",
        "    def forward(self, x):\n",
        "        out = self.layer1(x)\n",
        "        out = self.layer2(out)\n",
        "        out = out.view(out.size(0), -1)\n",
        "        out = self.fc1(out)\n",
        "        out = self.drop(out)\n",
        "        out = self.fc2(out)\n",
        "        return out\n"
      ]
    },
    {
      "cell_type": "code",
      "execution_count": null,
      "id": "7de3e181-c6bd-4c75-afbb-044afa9b93a2",
      "metadata": {
        "id": "7de3e181-c6bd-4c75-afbb-044afa9b93a2"
      },
      "outputs": [],
      "source": [
        "import torch.nn as nn\n",
        "import torch.nn.functional as F\n",
        "\n",
        "class SimpleConvNet(nn.Module):\n",
        "    def __init__(self):\n",
        "        super(SimpleConvNet, self).__init__()\n",
        "        self.conv1 = nn.Conv2d(3, 32, kernel_size=3, padding=1)\n",
        "        self.conv2 = nn.Conv2d(32, 64, kernel_size=3, padding=1)\n",
        "        self.conv3 = nn.Conv2d(64, 128, kernel_size=3, padding=1)\n",
        "        self.pool = nn.MaxPool2d(2, 2)\n",
        "        self.fc1 = nn.Linear(128 * 4 * 4, 512)\n",
        "        self.fc2 = nn.Linear(512, 10)\n",
        "        self.dropout = nn.Dropout(0.5)\n",
        "\n",
        "    def forward(self, x):\n",
        "        x = self.pool(F.relu(self.conv1(x)))\n",
        "        x = self.pool(F.relu(self.conv2(x)))\n",
        "        x = self.pool(F.relu(self.conv3(x)))\n",
        "        x = x.view(-1, 128 * 4 * 4)\n",
        "        x = F.relu(self.fc1(x))\n",
        "        x = self.dropout(x)\n",
        "        x = self.fc2(x)\n",
        "        return x\n",
        "\n"
      ]
    },
    {
      "cell_type": "markdown",
      "source": [
        "**Training Setup and Evaluation**"
      ],
      "metadata": {
        "id": "AnCWNsNnVWNi"
      },
      "id": "AnCWNsNnVWNi"
    },
    {
      "cell_type": "code",
      "execution_count": null,
      "id": "d22af0fd-4d8a-4e2e-9fde-8c8e3647c91c",
      "metadata": {
        "id": "d22af0fd-4d8a-4e2e-9fde-8c8e3647c91c"
      },
      "outputs": [],
      "source": [
        "import torch.optim as optim\n",
        "from torch.optim import AdamW\n",
        "from torch.optim.lr_scheduler import OneCycleLR\n",
        "\n",
        "\n",
        "\n",
        "model = SimpleConvNet().to(device)\n",
        "criterion = nn.CrossEntropyLoss()\n",
        "optimizer = optim.AdamW(model.parameters(), lr=0.001, weight_decay=1e-4)\n",
        "scheduler = OneCycleLR(optimizer, max_lr=0.01, steps_per_epoch=len(train_loader), epochs=30)\n",
        "\n"
      ]
    },
    {
      "cell_type": "code",
      "execution_count": null,
      "id": "9352ed25-1f73-43b5-a440-f88cf3eb67c8",
      "metadata": {
        "colab": {
          "base_uri": "https://localhost:8080/"
        },
        "id": "9352ed25-1f73-43b5-a440-f88cf3eb67c8",
        "outputId": "2ebc5ba4-a134-4e8b-f131-e753d3b97941"
      },
      "outputs": [
        {
          "output_type": "stream",
          "name": "stderr",
          "text": [
            "/usr/lib/python3.10/multiprocessing/popen_fork.py:66: RuntimeWarning: os.fork() was called. os.fork() is incompatible with multithreaded code, and JAX is multithreaded, so this will likely lead to a deadlock.\n",
            "  self.pid = os.fork()\n"
          ]
        },
        {
          "output_type": "stream",
          "name": "stdout",
          "text": [
            "Epoch 1, Loss: 1.7170, Train Acc: 46.61%, Test Acc: 51.89%\n",
            "Epoch 2, Loss: 1.4136, Train Acc: 54.37%, Test Acc: 58.16%\n",
            "Epoch 3, Loss: 1.2619, Train Acc: 59.59%, Test Acc: 62.95%\n",
            "Epoch 4, Loss: 1.1679, Train Acc: 61.72%, Test Acc: 65.31%\n",
            "Epoch 5, Loss: 1.0985, Train Acc: 65.11%, Test Acc: 68.79%\n",
            "Epoch 6, Loss: 1.0391, Train Acc: 66.32%, Test Acc: 69.79%\n",
            "Epoch 7, Loss: 0.9921, Train Acc: 68.01%, Test Acc: 71.62%\n",
            "Epoch 8, Loss: 0.9589, Train Acc: 69.49%, Test Acc: 72.75%\n",
            "Epoch 9, Loss: 0.9297, Train Acc: 69.87%, Test Acc: 73.19%\n",
            "Epoch 10, Loss: 0.9015, Train Acc: 69.53%, Test Acc: 72.19%\n",
            "Epoch 11, Loss: 0.8843, Train Acc: 71.55%, Test Acc: 74.76%\n",
            "Epoch 12, Loss: 0.8565, Train Acc: 72.76%, Test Acc: 75.95%\n",
            "Epoch 13, Loss: 0.8435, Train Acc: 72.37%, Test Acc: 75.38%\n",
            "Epoch 14, Loss: 0.8335, Train Acc: 74.20%, Test Acc: 77.00%\n",
            "Epoch 15, Loss: 0.8073, Train Acc: 73.16%, Test Acc: 76.42%\n",
            "Epoch 16, Loss: 0.7962, Train Acc: 75.08%, Test Acc: 77.39%\n",
            "Epoch 17, Loss: 0.7798, Train Acc: 74.62%, Test Acc: 76.95%\n",
            "Epoch 18, Loss: 0.7745, Train Acc: 74.47%, Test Acc: 77.05%\n",
            "Epoch 19, Loss: 0.7606, Train Acc: 76.16%, Test Acc: 78.27%\n",
            "Epoch 20, Loss: 0.7478, Train Acc: 76.67%, Test Acc: 78.73%\n",
            "Epoch 21, Loss: 0.7424, Train Acc: 76.46%, Test Acc: 78.86%\n",
            "Epoch 22, Loss: 0.7379, Train Acc: 76.07%, Test Acc: 78.49%\n",
            "Epoch 23, Loss: 0.7240, Train Acc: 76.84%, Test Acc: 78.73%\n",
            "Epoch 24, Loss: 0.7190, Train Acc: 77.89%, Test Acc: 79.93%\n",
            "Epoch 25, Loss: 0.7066, Train Acc: 77.90%, Test Acc: 79.87%\n",
            "Epoch 26, Loss: 0.7008, Train Acc: 77.75%, Test Acc: 79.39%\n",
            "Epoch 27, Loss: 0.6964, Train Acc: 77.23%, Test Acc: 79.47%\n",
            "Epoch 28, Loss: 0.6919, Train Acc: 77.64%, Test Acc: 78.45%\n",
            "Epoch 29, Loss: 0.6812, Train Acc: 78.95%, Test Acc: 80.38%\n",
            "Epoch 30, Loss: 0.6796, Train Acc: 78.50%, Test Acc: 79.89%\n",
            "Epoch 31, Loss: 0.6649, Train Acc: 78.35%, Test Acc: 79.77%\n",
            "Epoch 32, Loss: 0.6660, Train Acc: 78.93%, Test Acc: 80.55%\n",
            "Epoch 33, Loss: 0.6634, Train Acc: 79.58%, Test Acc: 80.81%\n",
            "Epoch 34, Loss: 0.6495, Train Acc: 80.05%, Test Acc: 80.98%\n",
            "Epoch 35, Loss: 0.6536, Train Acc: 79.81%, Test Acc: 80.65%\n",
            "Epoch 36, Loss: 0.6503, Train Acc: 79.31%, Test Acc: 80.97%\n",
            "Epoch 37, Loss: 0.6494, Train Acc: 79.48%, Test Acc: 81.39%\n",
            "Epoch 38, Loss: 0.6424, Train Acc: 79.85%, Test Acc: 81.26%\n",
            "Epoch 39, Loss: 0.6323, Train Acc: 80.09%, Test Acc: 81.25%\n",
            "Epoch 40, Loss: 0.6313, Train Acc: 80.91%, Test Acc: 81.86%\n",
            "Epoch 41, Loss: 0.6299, Train Acc: 80.52%, Test Acc: 81.26%\n",
            "Epoch 42, Loss: 0.6242, Train Acc: 80.52%, Test Acc: 81.62%\n",
            "Epoch 43, Loss: 0.6291, Train Acc: 81.14%, Test Acc: 81.75%\n",
            "Epoch 44, Loss: 0.6160, Train Acc: 81.19%, Test Acc: 82.01%\n",
            "Epoch 45, Loss: 0.6109, Train Acc: 81.70%, Test Acc: 81.75%\n",
            "Epoch 46, Loss: 0.6176, Train Acc: 81.12%, Test Acc: 81.63%\n",
            "Epoch 47, Loss: 0.6081, Train Acc: 81.57%, Test Acc: 82.23%\n",
            "Epoch 48, Loss: 0.6071, Train Acc: 81.76%, Test Acc: 82.24%\n",
            "Epoch 49, Loss: 0.6050, Train Acc: 81.81%, Test Acc: 81.99%\n",
            "Epoch 50, Loss: 0.5986, Train Acc: 81.98%, Test Acc: 82.67%\n"
          ]
        }
      ],
      "source": [
        "import matplotlib.pyplot as plt\n",
        "import numpy as np\n",
        "import torch\n",
        "\n",
        "# Initialize lists to store metrics\n",
        "epoch_losses = []\n",
        "train_accuracies = []\n",
        "test_accuracies = []\n",
        "\n",
        "# Define the calculate_accuracy function outside the loop to avoid redefinition\n",
        "def calculate_accuracy(model, data_loader):\n",
        "    model.eval()  # Set the model to evaluation mode\n",
        "    correct = 0\n",
        "    total = 0\n",
        "    with torch.no_grad():\n",
        "        for data in data_loader:\n",
        "            images, labels = data[0].to(device), data[1].to(device)\n",
        "            outputs = model(images)\n",
        "            _, predicted = torch.max(outputs.data, 1)\n",
        "            total += labels.size(0)\n",
        "            correct += (predicted == labels).sum().item()\n",
        "    return 100 * correct / total\n",
        "\n",
        "for epoch in range(50):\n",
        "    model.train()\n",
        "    running_loss = 0.0\n",
        "    for i, data in enumerate(train_loader, 0):\n",
        "        inputs, labels = data[0].to(device), data[1].to(device)\n",
        "        optimizer.zero_grad()\n",
        "        outputs = model(inputs)\n",
        "        loss = criterion(outputs, labels)\n",
        "        loss.backward()\n",
        "        optimizer.step()\n",
        "        running_loss += loss.item()\n",
        "\n",
        "    scheduler.step()\n",
        "\n",
        "    # Calculate and store metrics\n",
        "    epoch_loss = running_loss / len(train_loader)\n",
        "    epoch_losses.append(epoch_loss)\n",
        "\n",
        "    train_accuracy = calculate_accuracy(model, train_loader)\n",
        "    test_accuracy = calculate_accuracy(model, test_loader)\n",
        "    train_accuracies.append(train_accuracy)\n",
        "    test_accuracies.append(test_accuracy)\n",
        "\n",
        "    print(f\"Epoch {epoch+1}, Loss: {epoch_loss:.4f}, Train Acc: {train_accuracy:.2f}%, Test Acc: {test_accuracy:.2f}%\")\n"
      ]
    },
    {
      "cell_type": "markdown",
      "source": [
        "**Visualization**"
      ],
      "metadata": {
        "id": "AwimfLQ3Vfvu"
      },
      "id": "AwimfLQ3Vfvu"
    },
    {
      "cell_type": "code",
      "execution_count": null,
      "id": "7a9d00f1-549f-4d96-ae35-6ba39f8d3eee",
      "metadata": {
        "colab": {
          "base_uri": "https://localhost:8080/",
          "height": 803
        },
        "id": "7a9d00f1-549f-4d96-ae35-6ba39f8d3eee",
        "outputId": "96dbdfe2-39da-4e5b-c34b-07cb1727e21f"
      },
      "outputs": [
        {
          "output_type": "display_data",
          "data": {
            "text/plain": [
              "<Figure size 1000x400 with 1 Axes>"
            ],
            "image/png": "[encoded data removed]"
          },
          "metadata": {}
        },
        {
          "output_type": "display_data",
          "data": {
            "text/plain": [
              "<Figure size 1000x400 with 1 Axes>"
            ],
            "image/png": "[encoded data removed]"
          },
          "metadata": {}
        }
      ],
      "source": [
        "# After training, plot the metrics\n",
        "import matplotlib.pyplot as plt\n",
        "import numpy as np\n",
        "\n",
        "# Plot training loss\n",
        "plt.figure(figsize=(10, 4))\n",
        "plt.plot(np.arange(1, 51), epoch_losses, label='Training Loss')\n",
        "plt.xlabel('Epoch')\n",
        "plt.ylabel('Loss')\n",
        "plt.title('Training Loss Over Epochs')\n",
        "plt.legend()\n",
        "plt.show()\n",
        "\n",
        "# Plot accuracies\n",
        "plt.figure(figsize=(10, 4))\n",
        "plt.plot(np.arange(1, 51), train_accuracies, label='Train Accuracy')\n",
        "plt.plot(np.arange(1, 51), test_accuracies, label='Test Accuracy')\n",
        "plt.xlabel('Epoch')\n",
        "plt.ylabel('Accuracy (%)')\n",
        "plt.title('Train and Test Accuracy Over Epochs')\n",
        "plt.legend()\n",
        "plt.show()"
      ]
    },
    {
      "cell_type": "code",
      "source": [],
      "metadata": {
        "id": "UZc_rBNhf-KS"
      },
      "id": "UZc_rBNhf-KS",
      "execution_count": null,
      "outputs": []
    },
    {
      "cell_type": "code",
      "execution_count": null,
      "id": "fe3f300d-cfaa-4550-8cdd-2a92cf060d0a",
      "metadata": {
        "id": "fe3f300d-cfaa-4550-8cdd-2a92cf060d0a"
      },
      "outputs": [],
      "source": []
    }
  ],
  "metadata": {
    "kernelspec": {
      "display_name": "Python 3",
      "name": "python3"
    },
    "language_info": {
      "codemirror_mode": {
        "name": "ipython",
        "version": 3
      },
      "file_extension": ".py",
      "mimetype": "text/x-python",
      "name": "python",
      "nbconvert_exporter": "python",
      "pygments_lexer": "ipython3",
      "version": "3.11.7"
    },
    "colab": {
      "provenance": [],
      "gpuType": "T4"
    },
    "accelerator": "GPU"
  },
  "nbformat": 4,
  "nbformat_minor": 5
}