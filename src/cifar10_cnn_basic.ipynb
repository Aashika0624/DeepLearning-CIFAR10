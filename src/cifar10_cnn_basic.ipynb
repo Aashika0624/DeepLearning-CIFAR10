{
  "cells": [
    {
      "cell_type": "markdown",
      "source": [
        "\n",
        "# Neural Networks and Deep Learning (ECS659P/ECS7026P)\n"
      ],
      "metadata": {
        "id": "NN8WTHymunGz"
      },
      "id": "NN8WTHymunGz"
    },
    {
      "cell_type": "markdown",
      "source": [
        "**Aashika Elavarasan**\n",
        "\n",
        "**230356836**"
      ],
      "metadata": {
        "id": "v8sAE-Slu58h"
      },
      "id": "v8sAE-Slu58h"
    },
    {
      "cell_type": "code",
      "execution_count": null,
      "id": "298c65b7-2dd2-4cde-8f3f-bca2d88576cd",
      "metadata": {
        "id": "298c65b7-2dd2-4cde-8f3f-bca2d88576cd"
      },
      "outputs": [],
      "source": [
        "import torch\n",
        "from torchvision import datasets, transforms\n",
        "from torch.utils.data import DataLoader\n"
      ]
    },
    {
      "cell_type": "code",
      "execution_count": null,
      "id": "fbfa0c6f-52d7-4249-ab18-4d978ecd3c0c",
      "metadata": {
        "id": "fbfa0c6f-52d7-4249-ab18-4d978ecd3c0c",
        "outputId": "7b108b66-6428-4ef7-ea27-b856efb6811a"
      },
      "outputs": [
        {
          "name": "stdout",
          "output_type": "stream",
          "text": [
            "Files already downloaded and verified\n",
            "Files already downloaded and verified\n"
          ]
        }
      ],
      "source": [
        "# Define transformations\n",
        "from torchvision import transforms\n",
        "\n",
        "train_transform = transforms.Compose([\n",
        "    transforms.RandomHorizontalFlip(),\n",
        "    transforms.RandomCrop(32, padding=4),\n",
        "    transforms.ToTensor(),\n",
        "    transforms.Normalize((0.5, 0.5, 0.5), (0.5, 0.5, 0.5)),\n",
        "])\n",
        "\n",
        "\n",
        "\n",
        "# Load CIFAR-10 training dataset\n",
        "train_dataset = datasets.CIFAR10(root='./data', train=True,\n",
        "                                 download=True, transform=transform)\n",
        "\n",
        "# Load CIFAR-10 testing dataset\n",
        "test_dataset = datasets.CIFAR10(root='./data', train=False,\n",
        "                                download=True, transform=transform)\n"
      ]
    },
    {
      "cell_type": "code",
      "execution_count": null,
      "id": "cbce5354-204f-43ab-883b-f36328b3bc48",
      "metadata": {
        "id": "cbce5354-204f-43ab-883b-f36328b3bc48"
      },
      "outputs": [],
      "source": [
        "batch_size = 32\n",
        "\n",
        "# DataLoader for training data\n",
        "train_loader = DataLoader(train_dataset, batch_size=batch_size,\n",
        "                          shuffle=True, num_workers=2)\n",
        "\n",
        "# DataLoader for testing data\n",
        "test_loader = DataLoader(test_dataset, batch_size=batch_size,\n",
        "                         shuffle=False, num_workers=2)\n"
      ]
    },
    {
      "cell_type": "code",
      "execution_count": null,
      "id": "98fe3a1a-3faf-4cf3-9259-61569855d398",
      "metadata": {
        "id": "98fe3a1a-3faf-4cf3-9259-61569855d398"
      },
      "outputs": [],
      "source": [
        "import torch.nn as nn\n",
        "import torch.nn.functional as F\n",
        "\n",
        "class IntermediateBlock(nn.Module):\n",
        "    def __init__(self, in_channels, out_channels, num_convs):\n",
        "        super(IntermediateBlock, self).__init__()\n",
        "        self.convs = nn.ModuleList([\n",
        "            nn.Conv2d(in_channels, out_channels, kernel_size=3, padding=1)\n",
        "            for _ in range(num_convs)\n",
        "        ])\n",
        "        self.fc = nn.Linear(in_channels, num_convs)\n",
        "\n",
        "    def forward(self, x):\n",
        "        # Calculate the average across spatial dimensions for each channel\n",
        "        avg_pool = F.adaptive_avg_pool2d(x, (1, 1))\n",
        "        avg_pool = avg_pool.view(avg_pool.size(0), -1)\n",
        "\n",
        "        # Use a fully connected layer to compute weights for each convolution\n",
        "        a = F.softmax(self.fc(avg_pool), dim=1)\n",
        "\n",
        "        # Apply each convolution to the input and stack the results\n",
        "        conv_outputs = torch.stack([conv(x) for conv in self.convs], dim=1)\n",
        "\n",
        "        # Combine the convolution outputs according to the weights in 'a'\n",
        "        # Ensure 'a' and 'conv_outputs' are correctly aligned in dimensions\n",
        "        out = torch.einsum('bn,bnchw->bchw', a, conv_outputs)\n",
        "\n",
        "        return out\n",
        "\n"
      ]
    },
    {
      "cell_type": "code",
      "execution_count": null,
      "id": "2f1f236e-4f29-4094-b051-8b9e0fe29f88",
      "metadata": {
        "id": "2f1f236e-4f29-4094-b051-8b9e0fe29f88"
      },
      "outputs": [],
      "source": [
        "class OutputBlock(nn.Module):\n",
        "    def __init__(self, in_channels, num_classes):\n",
        "        super(OutputBlock, self).__init__()\n",
        "        self.avg_pool = nn.AdaptiveAvgPool2d((1, 1))\n",
        "        self.fc = nn.Linear(in_channels, num_classes)\n",
        "\n",
        "    def forward(self, x):\n",
        "        x = self.avg_pool(x)\n",
        "        x = x.view(x.size(0), -1)\n",
        "        x = self.fc(x)\n",
        "        return x\n"
      ]
    },
    {
      "cell_type": "code",
      "execution_count": null,
      "id": "bb6f6dd2-6521-4e6b-9459-7fa112897842",
      "metadata": {
        "id": "bb6f6dd2-6521-4e6b-9459-7fa112897842"
      },
      "outputs": [],
      "source": [
        "class SimplifiedCIFAR10Net(nn.Module):\n",
        "    def __init__(self):\n",
        "        super(SimplifiedCIFAR10Net, self).__init__()\n",
        "        self.layer1 = nn.Sequential(\n",
        "            nn.Conv2d(3, 32, kernel_size=3, padding=1),\n",
        "            nn.BatchNorm2d(32),\n",
        "            nn.ReLU(),\n",
        "            nn.MaxPool2d(kernel_size=2, stride=2))\n",
        "\n",
        "        self.layer2 = nn.Sequential(\n",
        "            nn.Conv2d(32, 64, kernel_size=3, padding=1),\n",
        "            nn.BatchNorm2d(64),\n",
        "            nn.ReLU(),\n",
        "            nn.MaxPool2d(kernel_size=2, stride=2))\n",
        "\n",
        "        self.fc1 = nn.Linear(64 * 8 * 8, 600)\n",
        "        self.drop = nn.Dropout2d(0.25)\n",
        "        self.fc2 = nn.Linear(600, 10)\n",
        "\n",
        "    def forward(self, x):\n",
        "        out = self.layer1(x)\n",
        "        out = self.layer2(out)\n",
        "        out = out.view(out.size(0), -1)\n",
        "        out = self.fc1(out)\n",
        "        out = self.drop(out)\n",
        "        out = self.fc2(out)\n",
        "        return out\n"
      ]
    },
    {
      "cell_type": "code",
      "execution_count": null,
      "id": "7bcee458-f50a-400d-973f-22798d248b97",
      "metadata": {
        "id": "7bcee458-f50a-400d-973f-22798d248b97"
      },
      "outputs": [],
      "source": [
        "import torch.nn as nn\n",
        "\n",
        "class ConvBlock(nn.Module):\n",
        "    def __init__(self, in_channels, out_channels, kernel_size=3, stride=1, padding=1):\n",
        "        super(ConvBlock, self).__init__()\n",
        "        self.conv = nn.Conv2d(in_channels, out_channels, kernel_size, stride, padding)\n",
        "        self.bn = nn.BatchNorm2d(out_channels)\n",
        "        self.relu = nn.ReLU(inplace=True)\n",
        "\n",
        "    def forward(self, x):\n",
        "        x = self.conv(x)\n",
        "        x = self.bn(x)\n",
        "        x = self.relu(x)\n",
        "        return x\n"
      ]
    },
    {
      "cell_type": "code",
      "execution_count": null,
      "id": "cd990b84-c520-4482-b386-f03bdec9b73c",
      "metadata": {
        "id": "cd990b84-c520-4482-b386-f03bdec9b73c"
      },
      "outputs": [],
      "source": [
        "device = torch.device(\"cuda\" if torch.cuda.is_available() else \"cpu\")\n",
        "# model =SimplifiedCIFAR10Net().to(device)\n",
        "\n",
        "model = SimplifiedCIFAR10Net().to(device)\n",
        "optimizer = optim.Adam(model.parameters(), lr=0.001)\n",
        "scheduler = optim.lr_scheduler.CosineAnnealingLR(optimizer, T_max=100)\n"
      ]
    },
    {
      "cell_type": "code",
      "execution_count": null,
      "id": "200a9955-2d47-4c29-b81f-0e3bd8e83b91",
      "metadata": {
        "id": "200a9955-2d47-4c29-b81f-0e3bd8e83b91"
      },
      "outputs": [],
      "source": [
        "import torch.optim as optim\n",
        "\n",
        "criterion = nn.CrossEntropyLoss()\n",
        "# optimizer = optim.Adam(model.parameters(), lr=0.001)\n",
        "\n",
        "from torch.optim.lr_scheduler import StepLR\n",
        "\n",
        "# optimizer = torch.optim.Adam(model.parameters(), lr=0.001)\n",
        "# scheduler = StepLR(optimizer, step_size=30, gamma=0.1)\n",
        "\n"
      ]
    },
    {
      "cell_type": "code",
      "execution_count": null,
      "id": "2431c3df-3e1b-4f7b-8ee5-524ed6c6e43c",
      "metadata": {
        "id": "2431c3df-3e1b-4f7b-8ee5-524ed6c6e43c",
        "outputId": "75b14f80-3d6d-4638-cb9e-77e3b3d196c3"
      },
      "outputs": [
        {
          "name": "stdout",
          "output_type": "stream",
          "text": [
            "Finished Training\n"
          ]
        }
      ],
      "source": [
        "num_epochs = 10\n",
        "\n",
        "for epoch in range(num_epochs):\n",
        "    model.train()\n",
        "    running_loss = 0.0\n",
        "    for i, data in enumerate(train_loader, 0):\n",
        "        inputs, labels = data[0].to(device), data[1].to(device)\n",
        "\n",
        "        optimizer.zero_grad()\n",
        "\n",
        "        outputs = model(inputs)\n",
        "        loss = criterion(outputs, labels)\n",
        "        loss.backward()\n",
        "        optimizer.step()\n",
        "\n",
        "        scheduler.step()\n",
        "\n",
        "        running_loss += loss.item()\n",
        "        if i % 2000 == 1999:  # print every 2000 mini-batches\n",
        "            print('[%d, %5d] loss: %.3f' %\n",
        "                  (epoch + 1, i + 1, running_loss / 2000))\n",
        "            running_loss = 0.0\n",
        "\n",
        "print('Finished Training')\n"
      ]
    },
    {
      "cell_type": "code",
      "execution_count": null,
      "id": "cb8db86d-0546-48bb-8f53-2d2efe4ad8ee",
      "metadata": {
        "id": "cb8db86d-0546-48bb-8f53-2d2efe4ad8ee",
        "outputId": "66475c59-22da-4ad1-f5d7-078ca123dce6"
      },
      "outputs": [
        {
          "name": "stdout",
          "output_type": "stream",
          "text": [
            "Accuracy of the network on the 10000 test images: 68 %\n"
          ]
        }
      ],
      "source": [
        "correct = 0\n",
        "total = 0\n",
        "model.eval()  # Set the model to evaluation mode\n",
        "with torch.no_grad():\n",
        "    for data in test_loader:\n",
        "        images, labels = data[0].to(device), data[1].to(device)\n",
        "        outputs = model(images)\n",
        "        _, predicted = torch.max(outputs.data, 1)\n",
        "        total += labels.size(0)\n",
        "        correct += (predicted == labels).sum().item()\n",
        "\n",
        "print('Accuracy of the network on the 10000 test images: %d %%' % (\n",
        "    100 * correct / total))\n"
      ]
    },
    {
      "cell_type": "code",
      "execution_count": null,
      "id": "7b845f08-b091-479a-8b4c-2a8528f605b7",
      "metadata": {
        "id": "7b845f08-b091-479a-8b4c-2a8528f605b7"
      },
      "outputs": [],
      "source": []
    },
    {
      "cell_type": "code",
      "execution_count": null,
      "id": "bf2215fd-58d4-4f59-8a55-d642b3b642c9",
      "metadata": {
        "id": "bf2215fd-58d4-4f59-8a55-d642b3b642c9"
      },
      "outputs": [],
      "source": []
    }
  ],
  "metadata": {
    "kernelspec": {
      "display_name": "Python 3 (ipykernel)",
      "language": "python",
      "name": "python3"
    },
    "language_info": {
      "codemirror_mode": {
        "name": "ipython",
        "version": 3
      },
      "file_extension": ".py",
      "mimetype": "text/x-python",
      "name": "python",
      "nbconvert_exporter": "python",
      "pygments_lexer": "ipython3",
      "version": "3.11.7"
    },
    "colab": {
      "provenance": []
    }
  },
  "nbformat": 4,
  "nbformat_minor": 5
}